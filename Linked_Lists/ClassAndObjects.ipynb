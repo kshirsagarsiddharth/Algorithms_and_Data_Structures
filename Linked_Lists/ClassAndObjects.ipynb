{
 "cells": [
  {
   "cell_type": "code",
   "execution_count": 6,
   "metadata": {},
   "outputs": [
    {
     "name": "stdout",
     "output_type": "stream",
     "text": [
      "Blu is a bird\n",
      "Woo is also bird\n",
      "Blu is 10 years old\n",
      "Woo is 15 years old\n"
     ]
    }
   ],
   "source": [
    "class Parrot:\n",
    "    #class attribute\n",
    "    species = 'bird'\n",
    "    # instance attribute\n",
    "    def __init__(self,name,age):\n",
    "        self.name = name\n",
    "        self.age = age\n",
    "# instantiate the parrot class\n",
    "blu = Parrot('Blu',10)\n",
    "woo = Parrot('Woo',15)\n",
    "# access the class attributes\n",
    "print('Blu is a {}'.format(blu.__class__.species))\n",
    "print('Woo is also {}'.format(woo.__class__.species))\n",
    "\n",
    "# access the instance attributes\n",
    "print('{} is {} years old'.format(blu.name,blu.age))\n",
    "print('{} is {} years old'.format(woo.name,woo.age))"
   ]
  },
  {
   "cell_type": "code",
   "execution_count": 7,
   "metadata": {},
   "outputs": [],
   "source": [
    "class Parrot:\n",
    "    def __init__(self,name,age):\n",
    "        self.name = name\n",
    "        self.age = age\n",
    "    def sing(self,song):\n",
    "        return \"{} sings {}\".format(self.name,song)\n",
    "    def dance(self):\n",
    "        return \"{} is now dancing\".format(self.name)\n",
    "blu = Parrot('Blu',10)\n"
   ]
  },
  {
   "cell_type": "code",
   "execution_count": 12,
   "metadata": {},
   "outputs": [
    {
     "name": "stdout",
     "output_type": "stream",
     "text": [
      "Blu sings happy\n",
      "Blu is now dancing\n"
     ]
    }
   ],
   "source": [
    "print(blu.sing('happy'))\n",
    "print(blu.dance())"
   ]
  },
  {
   "cell_type": "code",
   "execution_count": 17,
   "metadata": {},
   "outputs": [],
   "source": [
    "class Bird:\n",
    "    def __init__(self):\n",
    "        print('The bird is ready')\n",
    "    def whoisThis(self):\n",
    "        print('Bird')\n",
    "    def swim(self):\n",
    "        print('Swim faster')\n",
    "        \n",
    "class Penguin(Bird):\n",
    "    def __init__(self):\n",
    "        super().__init__()\n",
    "        print('Penguin is ready')\n",
    "    def whoisThis(self):\n",
    "        print('Penguin')\n",
    "    def run(self):\n",
    "        print('Run Faster')\n",
    "        "
   ]
  },
  {
   "cell_type": "code",
   "execution_count": 39,
   "metadata": {},
   "outputs": [],
   "source": [
    "class Computer:\n",
    "    def __init__(self):\n",
    "        self.__maxprice = 900\n",
    "    def sell(self):\n",
    "        print('Selling Price : {}'.format(self.__maxprice))\n",
    "    def setMaxPrice(self,price):\n",
    "        self.__maxprice = price"
   ]
  },
  {
   "cell_type": "code",
   "execution_count": 42,
   "metadata": {},
   "outputs": [
    {
     "name": "stdout",
     "output_type": "stream",
     "text": [
      "Parrots can fly\n"
     ]
    }
   ],
   "source": [
    "class Parrot:\n",
    "    def fly(self):\n",
    "        print('Parrots can fly')\n",
    "    def swim(self):\n",
    "        print(\"Parrots can't swim\")\n",
    "class Penguin:\n",
    "    def fly(self):\n",
    "        print(\"Penguins can't fly\")\n",
    "    def swim(self):\n",
    "        print('Penguins can swim')\n",
    "def flying_test(bird):\n",
    "    bird.fly()\n",
    "    \n",
    "blu = Parrot()\n",
    "peggy = Penguin()\n",
    "\n",
    "\n",
    "flying_test(blu)"
   ]
  },
  {
   "cell_type": "code",
   "execution_count": 43,
   "metadata": {},
   "outputs": [
    {
     "name": "stdout",
     "output_type": "stream",
     "text": [
      "Penguins can't fly\n"
     ]
    }
   ],
   "source": [
    "flying_test(peggy)"
   ]
  },
  {
   "cell_type": "code",
   "execution_count": 44,
   "metadata": {},
   "outputs": [],
   "source": [
    "class MyNewClass:\n",
    "    '''This is a docstring.This is my first class in python'''\n",
    "    pass"
   ]
  },
  {
   "cell_type": "code",
   "execution_count": 47,
   "metadata": {},
   "outputs": [
    {
     "name": "stdout",
     "output_type": "stream",
     "text": [
      "10\n",
      "<function MyClass.func at 0x000002CC42312488>\n",
      "This is my third class\n"
     ]
    }
   ],
   "source": [
    "class MyClass:\n",
    "    'This is my third class'\n",
    "    a = 10\n",
    "    def func(self):\n",
    "        print('hello')\n",
    "print(MyClass.a)\n",
    "print(MyClass.func)\n",
    "print(MyClass.__doc__)"
   ]
  },
  {
   "cell_type": "code",
   "execution_count": 48,
   "metadata": {},
   "outputs": [],
   "source": [
    "class MyClass:\n",
    "    'This is my third class'\n",
    "    a = 10\n",
    "    def func(self):\n",
    "        print('hello')"
   ]
  },
  {
   "cell_type": "code",
   "execution_count": 49,
   "metadata": {},
   "outputs": [],
   "source": [
    "ob = MyClass()"
   ]
  },
  {
   "cell_type": "code",
   "execution_count": 51,
   "metadata": {},
   "outputs": [
    {
     "data": {
      "text/plain": [
       "<bound method MyClass.func of <__main__.MyClass object at 0x000002CC4226C6A0>>"
      ]
     },
     "execution_count": 51,
     "metadata": {},
     "output_type": "execute_result"
    }
   ],
   "source": [
    "ob.func"
   ]
  },
  {
   "cell_type": "code",
   "execution_count": 52,
   "metadata": {},
   "outputs": [
    {
     "data": {
      "text/plain": [
       "<function __main__.MyClass.func(self)>"
      ]
     },
     "execution_count": 52,
     "metadata": {},
     "output_type": "execute_result"
    }
   ],
   "source": [
    "MyClass.func"
   ]
  },
  {
   "cell_type": "code",
   "execution_count": 73,
   "metadata": {},
   "outputs": [],
   "source": [
    "class ComplexNumber:\n",
    "    def __init__(self,r = 0,i  = 0):\n",
    "        self.real = r\n",
    "        self.imag = i\n",
    "    def getData(self):\n",
    "        print(\"{0} + {1}j\".format(self.real,self.imag))"
   ]
  },
  {
   "cell_type": "code",
   "execution_count": 74,
   "metadata": {},
   "outputs": [
    {
     "name": "stdout",
     "output_type": "stream",
     "text": [
      "2 + 3j\n"
     ]
    }
   ],
   "source": [
    "c1 = ComplexNumber(2,3)\n",
    "c1.getData()"
   ]
  },
  {
   "cell_type": "code",
   "execution_count": 75,
   "metadata": {},
   "outputs": [],
   "source": [
    "c2 = ComplexNumber(5)"
   ]
  },
  {
   "cell_type": "code",
   "execution_count": 77,
   "metadata": {},
   "outputs": [],
   "source": [
    "c2.attr = 10"
   ]
  },
  {
   "cell_type": "code",
   "execution_count": 78,
   "metadata": {},
   "outputs": [
    {
     "name": "stdout",
     "output_type": "stream",
     "text": [
      "5 0 10\n"
     ]
    }
   ],
   "source": [
    "print(c2.real,c2.imag,c2.attr)"
   ]
  },
  {
   "cell_type": "code",
   "execution_count": 81,
   "metadata": {},
   "outputs": [],
   "source": [
    "c1 = ComplexNumber(2,3)"
   ]
  },
  {
   "cell_type": "code",
   "execution_count": 82,
   "metadata": {},
   "outputs": [
    {
     "data": {
      "text/plain": [
       "3"
      ]
     },
     "execution_count": 82,
     "metadata": {},
     "output_type": "execute_result"
    }
   ],
   "source": [
    "c1.imag"
   ]
  },
  {
   "cell_type": "code",
   "execution_count": 83,
   "metadata": {},
   "outputs": [],
   "source": [
    "del c1.imag\n"
   ]
  },
  {
   "cell_type": "code",
   "execution_count": 84,
   "metadata": {},
   "outputs": [
    {
     "ename": "AttributeError",
     "evalue": "'ComplexNumber' object has no attribute 'imag'",
     "output_type": "error",
     "traceback": [
      "\u001b[1;31m---------------------------------------------------------------------------\u001b[0m",
      "\u001b[1;31mAttributeError\u001b[0m                            Traceback (most recent call last)",
      "\u001b[1;32m<ipython-input-84-770616645dd4>\u001b[0m in \u001b[0;36m<module>\u001b[1;34m\u001b[0m\n\u001b[1;32m----> 1\u001b[1;33m \u001b[0mc1\u001b[0m\u001b[1;33m.\u001b[0m\u001b[0mgetData\u001b[0m\u001b[1;33m(\u001b[0m\u001b[1;33m)\u001b[0m\u001b[1;33m\u001b[0m\u001b[1;33m\u001b[0m\u001b[0m\n\u001b[0m",
      "\u001b[1;32m<ipython-input-73-e455cb7fa973>\u001b[0m in \u001b[0;36mgetData\u001b[1;34m(self)\u001b[0m\n\u001b[0;32m      4\u001b[0m         \u001b[0mself\u001b[0m\u001b[1;33m.\u001b[0m\u001b[0mimag\u001b[0m \u001b[1;33m=\u001b[0m \u001b[0mi\u001b[0m\u001b[1;33m\u001b[0m\u001b[1;33m\u001b[0m\u001b[0m\n\u001b[0;32m      5\u001b[0m     \u001b[1;32mdef\u001b[0m \u001b[0mgetData\u001b[0m\u001b[1;33m(\u001b[0m\u001b[0mself\u001b[0m\u001b[1;33m)\u001b[0m\u001b[1;33m:\u001b[0m\u001b[1;33m\u001b[0m\u001b[1;33m\u001b[0m\u001b[0m\n\u001b[1;32m----> 6\u001b[1;33m         \u001b[0mprint\u001b[0m\u001b[1;33m(\u001b[0m\u001b[1;34m\"{0} + {1}j\"\u001b[0m\u001b[1;33m.\u001b[0m\u001b[0mformat\u001b[0m\u001b[1;33m(\u001b[0m\u001b[0mself\u001b[0m\u001b[1;33m.\u001b[0m\u001b[0mreal\u001b[0m\u001b[1;33m,\u001b[0m\u001b[0mself\u001b[0m\u001b[1;33m.\u001b[0m\u001b[0mimag\u001b[0m\u001b[1;33m)\u001b[0m\u001b[1;33m)\u001b[0m\u001b[1;33m\u001b[0m\u001b[1;33m\u001b[0m\u001b[0m\n\u001b[0m",
      "\u001b[1;31mAttributeError\u001b[0m: 'ComplexNumber' object has no attribute 'imag'"
     ]
    }
   ],
   "source": [
    "c1.getData()"
   ]
  },
  {
   "cell_type": "code",
   "execution_count": 85,
   "metadata": {},
   "outputs": [],
   "source": [
    "del ComplexNumber.getData"
   ]
  },
  {
   "cell_type": "code",
   "execution_count": 86,
   "metadata": {},
   "outputs": [
    {
     "ename": "AttributeError",
     "evalue": "'ComplexNumber' object has no attribute 'getData'",
     "output_type": "error",
     "traceback": [
      "\u001b[1;31m---------------------------------------------------------------------------\u001b[0m",
      "\u001b[1;31mAttributeError\u001b[0m                            Traceback (most recent call last)",
      "\u001b[1;32m<ipython-input-86-af393e8f0773>\u001b[0m in \u001b[0;36m<module>\u001b[1;34m\u001b[0m\n\u001b[1;32m----> 1\u001b[1;33m \u001b[0mc1\u001b[0m\u001b[1;33m.\u001b[0m\u001b[0mgetData\u001b[0m\u001b[1;33m\u001b[0m\u001b[1;33m\u001b[0m\u001b[0m\n\u001b[0m",
      "\u001b[1;31mAttributeError\u001b[0m: 'ComplexNumber' object has no attribute 'getData'"
     ]
    }
   ],
   "source": [
    "c1.getData"
   ]
  },
  {
   "cell_type": "code",
   "execution_count": 87,
   "metadata": {},
   "outputs": [],
   "source": [
    "c1 = ComplexNumber(1,3)\n",
    "del c1"
   ]
  },
  {
   "cell_type": "code",
   "execution_count": 88,
   "metadata": {},
   "outputs": [
    {
     "ename": "NameError",
     "evalue": "name 'c1' is not defined",
     "output_type": "error",
     "traceback": [
      "\u001b[1;31m---------------------------------------------------------------------------\u001b[0m",
      "\u001b[1;31mNameError\u001b[0m                                 Traceback (most recent call last)",
      "\u001b[1;32m<ipython-input-88-5348681b35c2>\u001b[0m in \u001b[0;36m<module>\u001b[1;34m\u001b[0m\n\u001b[1;32m----> 1\u001b[1;33m \u001b[0mc1\u001b[0m\u001b[1;33m\u001b[0m\u001b[1;33m\u001b[0m\u001b[0m\n\u001b[0m",
      "\u001b[1;31mNameError\u001b[0m: name 'c1' is not defined"
     ]
    }
   ],
   "source": [
    "c1"
   ]
  },
  {
   "cell_type": "code",
   "execution_count": 105,
   "metadata": {},
   "outputs": [],
   "source": [
    "class Polygon:\n",
    "    def __init__(self,no_of_sides):\n",
    "        self.n = no_of_sides\n",
    "        self.sides = [0 for i in range(no_of_sides)]\n",
    "    def inputSides(self):\n",
    "        self.sides = [float(input('Enter side' + str(i + 1) + \":\")) for i in range (self.n)]\n",
    "    def dispSides(self):\n",
    "        for i in range(self.n):\n",
    "            print(\"Side\",i + 1 ,'is',self.sides[i])\n",
    "class Triangle(Polygon):\n",
    "    def __init__(self):\n",
    "        Polygon.__init__(self,3)\n",
    "    def findArea(self):\n",
    "        a,b,c = self.sides\n",
    "        s = (a + b + c)/2\n",
    "        area = (s * (s - a) * (s - b) * (s - c)) ** 0.5\n",
    "        print(\"The area of the triangle is {}\".format(area))       "
   ]
  },
  {
   "cell_type": "code",
   "execution_count": 106,
   "metadata": {},
   "outputs": [],
   "source": [
    "class Point:\n",
    "    def __init__(self,x = 0,y = 0):\n",
    "        self.x = x\n",
    "        self.y = y\n"
   ]
  },
  {
   "cell_type": "code",
   "execution_count": 107,
   "metadata": {},
   "outputs": [],
   "source": [
    "p1 = Point(2,3)\n",
    "p2 = Point(-1,2)"
   ]
  },
  {
   "cell_type": "code",
   "execution_count": 108,
   "metadata": {},
   "outputs": [
    {
     "ename": "TypeError",
     "evalue": "unsupported operand type(s) for +: 'Point' and 'Point'",
     "output_type": "error",
     "traceback": [
      "\u001b[1;31m---------------------------------------------------------------------------\u001b[0m",
      "\u001b[1;31mTypeError\u001b[0m                                 Traceback (most recent call last)",
      "\u001b[1;32m<ipython-input-108-a0c3d63f397c>\u001b[0m in \u001b[0;36m<module>\u001b[1;34m\u001b[0m\n\u001b[1;32m----> 1\u001b[1;33m \u001b[0mp1\u001b[0m \u001b[1;33m+\u001b[0m \u001b[0mp2\u001b[0m\u001b[1;33m\u001b[0m\u001b[1;33m\u001b[0m\u001b[0m\n\u001b[0m",
      "\u001b[1;31mTypeError\u001b[0m: unsupported operand type(s) for +: 'Point' and 'Point'"
     ]
    }
   ],
   "source": [
    "p1 + p2"
   ]
  },
  {
   "cell_type": "code",
   "execution_count": 109,
   "metadata": {},
   "outputs": [
    {
     "data": {
      "text/plain": [
       "<__main__.Point at 0x2cc4232f4a8>"
      ]
     },
     "execution_count": 109,
     "metadata": {},
     "output_type": "execute_result"
    }
   ],
   "source": [
    "p1 = Point(2,3)\n",
    "p1"
   ]
  },
  {
   "cell_type": "code",
   "execution_count": 123,
   "metadata": {},
   "outputs": [],
   "source": [
    "class Point:\n",
    "    def __init__(self,x = 0,y = 0):\n",
    "        self.x = x\n",
    "        self.y = y\n",
    "    def __str__(self):\n",
    "        return \"({0},{1})\".format(self.x,self.y)\n",
    "    def __add__(self,other):\n",
    "        x = self.x + other.x\n",
    "        y = self.y + other.y\n",
    "        return Point(x,y)\n",
    "    def __lt__(self,other):\n",
    "        self_mag = (self.x) ** 2 + (self.y) ** 2\n",
    "        other_mag = (other.x) ** 2 + (other.y) ** 2\n",
    "        return self_mag < other_mag"
   ]
  },
  {
   "cell_type": "code",
   "execution_count": 124,
   "metadata": {},
   "outputs": [],
   "source": [
    "class Dog:\n",
    "    species = 'mammal'\n",
    "    def __init__(self,name,age):\n",
    "        self.name = name\n",
    "        self.age = age\n",
    "    "
   ]
  },
  {
   "cell_type": "code",
   "execution_count": 125,
   "metadata": {},
   "outputs": [],
   "source": [
    "class Dog:\n",
    "    pass\n"
   ]
  },
  {
   "cell_type": "code",
   "execution_count": 126,
   "metadata": {},
   "outputs": [
    {
     "data": {
      "text/plain": [
       "<__main__.Dog at 0x2cc42325f60>"
      ]
     },
     "execution_count": 126,
     "metadata": {},
     "output_type": "execute_result"
    }
   ],
   "source": [
    "Dog()"
   ]
  },
  {
   "cell_type": "code",
   "execution_count": 127,
   "metadata": {},
   "outputs": [],
   "source": [
    "a = Dog()"
   ]
  },
  {
   "cell_type": "code",
   "execution_count": 128,
   "metadata": {},
   "outputs": [],
   "source": [
    "b = Dog()"
   ]
  },
  {
   "cell_type": "code",
   "execution_count": 129,
   "metadata": {},
   "outputs": [
    {
     "data": {
      "text/plain": [
       "False"
      ]
     },
     "execution_count": 129,
     "metadata": {},
     "output_type": "execute_result"
    }
   ],
   "source": [
    "a == b"
   ]
  },
  {
   "cell_type": "code",
   "execution_count": 135,
   "metadata": {},
   "outputs": [],
   "source": [
    "class Dog:\n",
    "    species = 'mammal'\n",
    "    def __init__(self,name,age):\n",
    "        self.name = name\n",
    "        self.age = age\n"
   ]
  },
  {
   "cell_type": "code",
   "execution_count": 136,
   "metadata": {},
   "outputs": [],
   "source": [
    "philo = Dog('Philo',6)\n",
    "rudra = Dog('rudra',8)"
   ]
  },
  {
   "cell_type": "code",
   "execution_count": 137,
   "metadata": {},
   "outputs": [
    {
     "name": "stdout",
     "output_type": "stream",
     "text": [
      "Philo is 6 and rudra is 8\n"
     ]
    }
   ],
   "source": [
    "print('{} is {} and {} is {}'.format(philo.name,philo.age,rudra.name,rudra.age))"
   ]
  },
  {
   "cell_type": "code",
   "execution_count": 138,
   "metadata": {},
   "outputs": [
    {
     "name": "stdout",
     "output_type": "stream",
     "text": [
      "Philo is a mammal\n"
     ]
    }
   ],
   "source": [
    "if philo.species == 'mammal':\n",
    "    print(\"{} is a {}\".format(philo.name,philo.species))"
   ]
  },
  {
   "cell_type": "code",
   "execution_count": 139,
   "metadata": {},
   "outputs": [],
   "source": [
    "rudra_one = Dog('rudra_one',7)\n",
    "rudra_two = Dog('rudra_two',5)\n",
    "rudra_three = Dog('rudra_three',8)"
   ]
  },
  {
   "cell_type": "code",
   "execution_count": 140,
   "metadata": {},
   "outputs": [],
   "source": [
    "def get_biggest_numbers(*args):\n",
    "    return max(args)"
   ]
  },
  {
   "cell_type": "code",
   "execution_count": 141,
   "metadata": {},
   "outputs": [
    {
     "name": "stdout",
     "output_type": "stream",
     "text": [
      "The oldest dog is 8 years old\n"
     ]
    }
   ],
   "source": [
    "print('The oldest dog is {} years old'.format(get_biggest_numbers(rudra_one.age,rudra_two.age,rudra_three.age)))"
   ]
  },
  {
   "cell_type": "code",
   "execution_count": 143,
   "metadata": {},
   "outputs": [],
   "source": [
    "class Dog:\n",
    "    species = 'mammal'\n",
    "    def __init__(self,name,age):\n",
    "        self.name = name\n",
    "        self.age = age\n",
    "\n",
    "    # instance method\n",
    "    def description(self):\n",
    "        return \"{} is {} years old\".format(self.name,self.age)\n",
    "    def speak(self,sound):\n",
    "        return \"{} speaks {}\".format(self.name,sound)"
   ]
  },
  {
   "cell_type": "code",
   "execution_count": 147,
   "metadata": {},
   "outputs": [
    {
     "name": "stdout",
     "output_type": "stream",
     "text": [
      "mikey is 6 years old\n",
      "mikey speaks woof wppf\n"
     ]
    }
   ],
   "source": [
    "mikey = Dog('mikey',6)\n",
    "print(mikey.description())\n",
    "print(mikey.speak('woof wppf'))"
   ]
  },
  {
   "cell_type": "code",
   "execution_count": 145,
   "metadata": {},
   "outputs": [
    {
     "data": {
      "text/plain": [
       "<__main__.Dog at 0x2cc42335470>"
      ]
     },
     "execution_count": 145,
     "metadata": {},
     "output_type": "execute_result"
    }
   ],
   "source": [
    "mikey"
   ]
  },
  {
   "cell_type": "code",
   "execution_count": 148,
   "metadata": {},
   "outputs": [],
   "source": [
    "class Email:\n",
    "    def __init__(self):\n",
    "        self.is_sent = False\n",
    "    def send_email(self):\n",
    "        self.is_sent  = True"
   ]
  },
  {
   "cell_type": "code",
   "execution_count": 149,
   "metadata": {},
   "outputs": [],
   "source": [
    "my_email = Email()"
   ]
  },
  {
   "cell_type": "code",
   "execution_count": 151,
   "metadata": {},
   "outputs": [
    {
     "data": {
      "text/plain": [
       "False"
      ]
     },
     "execution_count": 151,
     "metadata": {},
     "output_type": "execute_result"
    }
   ],
   "source": [
    "my_email.is_sent"
   ]
  },
  {
   "cell_type": "code",
   "execution_count": 152,
   "metadata": {},
   "outputs": [],
   "source": [
    "my_email.send_email()"
   ]
  },
  {
   "cell_type": "code",
   "execution_count": 153,
   "metadata": {},
   "outputs": [
    {
     "data": {
      "text/plain": [
       "True"
      ]
     },
     "execution_count": 153,
     "metadata": {},
     "output_type": "execute_result"
    }
   ],
   "source": [
    "my_email.is_sent"
   ]
  },
  {
   "cell_type": "code",
   "execution_count": 3,
   "metadata": {},
   "outputs": [
    {
     "name": "stdout",
     "output_type": "stream",
     "text": [
      "German Shepard\n",
      "Boston Terriar\n"
     ]
    }
   ],
   "source": [
    "class Dog:\n",
    "    def __init__(self,breed):\n",
    "        self.breed = breed\n",
    "spencer = Dog('German Shepard')\n",
    "print(spencer.breed)\n",
    "sara = Dog('Boston Terriar')\n",
    "print(sara.breed)"
   ]
  },
  {
   "cell_type": "code",
   "execution_count": 4,
   "metadata": {},
   "outputs": [],
   "source": [
    "class Dog:\n",
    "    species = 'mammal'\n",
    "    \n",
    "    def __init__(self,name,age):\n",
    "        self.name = name\n",
    "        self.age = age\n",
    "        \n",
    "    def description(self):\n",
    "        return '{} is {} years old'.format(self.name,self.age)\n",
    "    \n",
    "    def speak(self,sound):\n",
    "        return \"{} says {}\".format(self.name,sound)\n",
    "\n",
    "class RusselTerrier(Dog):\n",
    "    def run(self,speed):\n",
    "        return \"{} runs {}\".format(self.name,speed)\n",
    "class Bulldog(Dog):\n",
    "    def run(self,speed):\n",
    "        return \"{} runs {}\".format(self.name,speed)\n",
    "    "
   ]
  },
  {
   "cell_type": "code",
   "execution_count": 5,
   "metadata": {},
   "outputs": [],
   "source": [
    "jim = Bulldog('anju',8)"
   ]
  },
  {
   "cell_type": "code",
   "execution_count": 6,
   "metadata": {},
   "outputs": [
    {
     "data": {
      "text/plain": [
       "'anju is 8 years old'"
      ]
     },
     "execution_count": 6,
     "metadata": {},
     "output_type": "execute_result"
    }
   ],
   "source": [
    "jim.description()"
   ]
  },
  {
   "cell_type": "code",
   "execution_count": 7,
   "metadata": {},
   "outputs": [
    {
     "data": {
      "text/plain": [
       "'anju runs 8'"
      ]
     },
     "execution_count": 7,
     "metadata": {},
     "output_type": "execute_result"
    }
   ],
   "source": [
    "jim.run('8')"
   ]
  },
  {
   "cell_type": "code",
   "execution_count": 8,
   "metadata": {},
   "outputs": [
    {
     "data": {
      "text/plain": [
       "'anju runs slowly'"
      ]
     },
     "execution_count": 8,
     "metadata": {},
     "output_type": "execute_result"
    }
   ],
   "source": [
    "jim.run('slowly')"
   ]
  },
  {
   "cell_type": "code",
   "execution_count": 9,
   "metadata": {},
   "outputs": [],
   "source": [
    "class Dog:\n",
    "    species = 'mammals'\n",
    "class SomeBreed(Dog):\n",
    "    pass\n",
    "class SomeOtherBreed(Dog):\n",
    "    species = 'reptiles'"
   ]
  },
  {
   "cell_type": "code",
   "execution_count": 10,
   "metadata": {},
   "outputs": [],
   "source": [
    "frank = SomeBreed()"
   ]
  },
  {
   "cell_type": "code",
   "execution_count": 11,
   "metadata": {},
   "outputs": [
    {
     "data": {
      "text/plain": [
       "'mammals'"
      ]
     },
     "execution_count": 11,
     "metadata": {},
     "output_type": "execute_result"
    }
   ],
   "source": [
    "frank.species"
   ]
  },
  {
   "cell_type": "code",
   "execution_count": 12,
   "metadata": {},
   "outputs": [],
   "source": [
    "beans = SomeOtherBreed()"
   ]
  },
  {
   "cell_type": "code",
   "execution_count": 13,
   "metadata": {},
   "outputs": [
    {
     "data": {
      "text/plain": [
       "'reptiles'"
      ]
     },
     "execution_count": 13,
     "metadata": {},
     "output_type": "execute_result"
    }
   ],
   "source": [
    "beans.species"
   ]
  },
  {
   "cell_type": "code",
   "execution_count": 29,
   "metadata": {},
   "outputs": [
    {
     "data": {
      "text/plain": [
       "<__main__.Pets at 0x2241c7b0f60>"
      ]
     },
     "execution_count": 29,
     "metadata": {},
     "output_type": "execute_result"
    }
   ],
   "source": [
    "class Pets:\n",
    "    dogs = []\n",
    "    def __init__(self,dogs):\n",
    "        self.dogs = dogs\n",
    "class Dog:\n",
    "    species = 'mammals'\n",
    "    \n",
    "    def __init__(self,name,age):\n",
    "        self.name = name\n",
    "        self.age = age\n",
    "    \n",
    "    def description(self):\n",
    "        return self.name,self.age\n",
    "    \n",
    "    def speak(self,sound):\n",
    "        return \"{} says {}\".fomat(self.name,sound)\n",
    "    \n",
    "    def eat(self):\n",
    "        self.is_hungry = False\n",
    "        \n",
    "class RusselTerrier(Dog):\n",
    "    def run(self,speed):\n",
    "        return \"{} runs {}\".format(self.name,speed)\n",
    "\n",
    "class BullDog(Dog):\n",
    "    def run(self,speed):\n",
    "        return \"{} runs {}\".format(self.name,speed)\n",
    "    \n",
    "my_dogs = [\n",
    "    Bulldog('Tom',6),\n",
    "    RusselTerrier('Fletcher',7),\n",
    "    Dog('Larry',9)\n",
    "]\n",
    "my_pets = Pets(my_dogs)\n"
   ]
  },
  {
   "cell_type": "code",
   "execution_count": 22,
   "metadata": {},
   "outputs": [
    {
     "name": "stdout",
     "output_type": "stream",
     "text": [
      "I have 3 dogs\n",
      "Tom is 6\n",
      "Fletcher is 7\n",
      "Larry is 9\n",
      "And ofcourse they are mammals\n"
     ]
    }
   ],
   "source": [
    "print('I have {} dogs'.format(len(my_pets.dogs)))\n",
    "for dog in my_pets.dogs:\n",
    "    print(\"{} is {}\".format(dog.name,dog.age))\n",
    "print('And ofcourse they are {}'.format(dog.species))"
   ]
  },
  {
   "cell_type": "code",
   "execution_count": 38,
   "metadata": {},
   "outputs": [
    {
     "name": "stdout",
     "output_type": "stream",
     "text": [
      "I have 3 dogs\n",
      "Rudra is 7\n",
      "Rudri is 8\n",
      "Rudram is 2\n",
      "My dogs are not hungry\n"
     ]
    }
   ],
   "source": [
    "class Pets:\n",
    "    dogs = []\n",
    "    def __init__(self,dogs):\n",
    "        self.dogs = dogs\n",
    "class Dog:\n",
    "    species = 'mammals'\n",
    "    def __init__(self,name,age):\n",
    "        self.name = name\n",
    "        self.age = age \n",
    "        self.is_hungry = True\n",
    "    def description(self):\n",
    "        return self.name,self.age\n",
    "    def speak(self,sound):\n",
    "        return \"{} says {}\".format(self.name,sound)\n",
    "    def eat(self):\n",
    "        self.is_hungry = False\n",
    "class RusselTerrier(Dog):\n",
    "    def run(self,speed):\n",
    "        return \"{} runs {}\".format(self.name,speed)\n",
    "class BullDog(Dog):\n",
    "    def run(self,speed):\n",
    "        return \"{} runs {}\".format(self.name,speed)\n",
    "my_dogs = [\n",
    "    RusselTerrier('Rudra',7),\n",
    "    BullDog('Rudri',8),\n",
    "    Dog('Rudram',2)\n",
    "]\n",
    "my_pets = Pets(my_dogs)\n",
    "print('I have {} dogs'.format(len(my_pets.dogs)))\n",
    "for dogs in my_pets.dogs:\n",
    "    dogs.eat()\n",
    "    print(\"{} is {}\".format(dogs.name,dogs.age))\n",
    "    \n",
    "are_my_dogs_hungry = False\n",
    "for dogs in my_pets.dogs:\n",
    "    if dogs.is_hungry:\n",
    "        are_my_dogs_hungry = True\n",
    "if are_my_dogs_hungry:\n",
    "    print('my dogs are hungry')\n",
    "else:\n",
    "    print('My dogs are not hungry')"
   ]
  },
  {
   "cell_type": "code",
   "execution_count": 41,
   "metadata": {},
   "outputs": [
    {
     "name": "stdout",
     "output_type": "stream",
     "text": [
      "Rudra is walking\n",
      "Rudri is walking\n",
      "Rudram is walking\n"
     ]
    }
   ],
   "source": [
    "class Pets:\n",
    "    dogs = []\n",
    "    def __init__(self,dogs):\n",
    "        self.dogs = dogs\n",
    "    def walk(self):\n",
    "        for dog in self.dogs:\n",
    "            print(dog.walk())\n",
    "            \n",
    "class Dog:\n",
    "    species = 'mammals'\n",
    "    def __init__(self,name,age):\n",
    "        self.name = name\n",
    "        self.age = age \n",
    "        self.is_hungry = True\n",
    "    def description(self):\n",
    "        return self.name,self.age\n",
    "    def speak(self,sound):\n",
    "        return \"{} says {}\".format(self.name,sound)\n",
    "    def eat(self):\n",
    "        self.is_hungry = False\n",
    "    def walk(self):\n",
    "        return \"{} is walking\".format(self.name)\n",
    "class RusselTerrier(Dog):\n",
    "    def run(self,speed):\n",
    "        return \"{} runs {}\".format(self.name,speed)\n",
    "class BullDog(Dog):\n",
    "    def run(self,speed):\n",
    "        return \"{} runs {}\".format(self.name,speed)\n",
    "my_dogs = [\n",
    "    RusselTerrier('Rudra',7),\n",
    "    BullDog('Rudri',8),\n",
    "    Dog('Rudram',2)\n",
    "]\n",
    "my_pets = Pets(my_dogs)\n",
    "my_pets.walk()"
   ]
  },
  {
   "cell_type": "code",
   "execution_count": null,
   "metadata": {},
   "outputs": [],
   "source": []
  }
 ],
 "metadata": {
  "kernelspec": {
   "display_name": "Python 3",
   "language": "python",
   "name": "python3"
  },
  "language_info": {
   "codemirror_mode": {
    "name": "ipython",
    "version": 3
   },
   "file_extension": ".py",
   "mimetype": "text/x-python",
   "name": "python",
   "nbconvert_exporter": "python",
   "pygments_lexer": "ipython3",
   "version": "3.7.1"
  }
 },
 "nbformat": 4,
 "nbformat_minor": 2
}
