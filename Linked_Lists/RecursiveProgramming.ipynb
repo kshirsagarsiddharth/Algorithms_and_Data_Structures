{
 "cells": [
  {
   "cell_type": "code",
   "execution_count": 1,
   "metadata": {},
   "outputs": [],
   "source": [
    "def func1(n):\n",
    "    i = s = 1\n",
    "    while s < n:\n",
    "        i = i + 1\n",
    "        s = s + i\n",
    "        print('*')"
   ]
  },
  {
   "cell_type": "code",
   "execution_count": 5,
   "metadata": {},
   "outputs": [
    {
     "name": "stdout",
     "output_type": "stream",
     "text": [
      "*\n",
      "*\n",
      "*\n"
     ]
    }
   ],
   "source": [
    "func1(7)"
   ]
  },
  {
   "cell_type": "code",
   "execution_count": 6,
   "metadata": {},
   "outputs": [],
   "source": [
    "def func2(n):\n",
    "    i = 1\n",
    "    count = 0\n",
    "    while i*i < n:\n",
    "        count = count + 1\n",
    "        i = i + 1\n",
    "        print(count)"
   ]
  },
  {
   "cell_type": "code",
   "execution_count": 7,
   "metadata": {},
   "outputs": [
    {
     "name": "stdout",
     "output_type": "stream",
     "text": [
      "1\n",
      "2\n",
      "3\n",
      "4\n"
     ]
    }
   ],
   "source": [
    "func2(20)"
   ]
  },
  {
   "cell_type": "code",
   "execution_count": 21,
   "metadata": {},
   "outputs": [],
   "source": [
    "def func3(n):\n",
    "    count = 0\n",
    "    for i in range(n/2,n):\n",
    "        j = 1\n",
    "        while j + n/2 <= n:\n",
    "            k = 1\n",
    "            while k <= n:\n",
    "                count = count + 1\n",
    "                k = k * 2\n",
    "            j = j + 1\n",
    "    print(count)"
   ]
  },
  {
   "cell_type": "code",
   "execution_count": 23,
   "metadata": {},
   "outputs": [],
   "source": [
    "def func4(n):\n",
    "    count = 0\n",
    "    for i in range(n/2,n):\n",
    "        j = 1\n",
    "        while j + n/2 <= n:\n",
    "            k = 1\n",
    "            while k <= n:\n",
    "                count = count + 1\n",
    "                k = k * 2\n",
    "            j = j * 2\n",
    "    print(count)"
   ]
  },
  {
   "cell_type": "code",
   "execution_count": 35,
   "metadata": {},
   "outputs": [],
   "source": [
    "def func5(n):\n",
    "    count = 0\n",
    "    if n <= 0:\n",
    "        return\n",
    "    for i in range(0,n):\n",
    "        for j in range(0,n):\n",
    "            count = count + 1\n",
    "    func5(n - 3)\n",
    "    print(count)"
   ]
  },
  {
   "cell_type": "code",
   "execution_count": 36,
   "metadata": {},
   "outputs": [
    {
     "name": "stdout",
     "output_type": "stream",
     "text": [
      "1\n",
      "16\n",
      "49\n",
      "100\n"
     ]
    }
   ],
   "source": [
    "func5(10)"
   ]
  },
  {
   "cell_type": "code",
   "execution_count": 39,
   "metadata": {},
   "outputs": [],
   "source": [
    "def func6(n):\n",
    "    count = 0\n",
    "    if n <= 0:\n",
    "        return\n",
    "    for i in range(0,n):\n",
    "        j = 1\n",
    "        while j < n:\n",
    "            j = j + i\n",
    "            count = count + 1\n",
    "    print(count)"
   ]
  },
  {
   "cell_type": "code",
   "execution_count": 42,
   "metadata": {},
   "outputs": [],
   "source": [
    "import math\n",
    "count = 0\n",
    "def function(n):\n",
    "    global count\n",
    "    if n <= 2:\n",
    "        return 1\n",
    "    else:\n",
    "        function(round(math.sqrt(n)))\n",
    "        count = count + 1\n",
    "        return count\n",
    "    "
   ]
  },
  {
   "cell_type": "code",
   "execution_count": 43,
   "metadata": {},
   "outputs": [
    {
     "data": {
      "text/plain": [
       "3"
      ]
     },
     "execution_count": 43,
     "metadata": {},
     "output_type": "execute_result"
    }
   ],
   "source": [
    "function(200)"
   ]
  },
  {
   "cell_type": "code",
   "execution_count": 2,
   "metadata": {},
   "outputs": [],
   "source": [
    "def factorial(n):\n",
    "    if n == 1:\n",
    "        return 1\n",
    "    else:\n",
    "        return n * factorial(n - 1)"
   ]
  },
  {
   "cell_type": "code",
   "execution_count": 4,
   "metadata": {},
   "outputs": [
    {
     "data": {
      "text/plain": [
       "6"
      ]
     },
     "execution_count": 4,
     "metadata": {},
     "output_type": "execute_result"
    }
   ],
   "source": [
    "factorial(3)"
   ]
  },
  {
   "cell_type": "code",
   "execution_count": 5,
   "metadata": {},
   "outputs": [],
   "source": [
    "def Print(n):\n",
    "    if n == 0:\n",
    "        return 0\n",
    "    else:\n",
    "        print(n)\n",
    "        return Print(n - 1)"
   ]
  },
  {
   "cell_type": "code",
   "execution_count": 6,
   "metadata": {},
   "outputs": [
    {
     "name": "stdout",
     "output_type": "stream",
     "text": [
      "4\n",
      "3\n",
      "2\n",
      "1\n"
     ]
    },
    {
     "data": {
      "text/plain": [
       "0"
      ]
     },
     "execution_count": 6,
     "metadata": {},
     "output_type": "execute_result"
    }
   ],
   "source": [
    "Print(4)"
   ]
  },
  {
   "cell_type": "code",
   "execution_count": 8,
   "metadata": {},
   "outputs": [],
   "source": [
    "disks = 3\n",
    "from_tower = 'A'\n",
    "to_tower = 'C'\n",
    "using_tower = 'B'"
   ]
  },
  {
   "cell_type": "code",
   "execution_count": 10,
   "metadata": {},
   "outputs": [
    {
     "name": "stdout",
     "output_type": "stream",
     "text": [
      "Move disk from A to C\n",
      "Move disk from A to B\n",
      "Move disk from C to B\n",
      "Move disk from A to C\n",
      "Move disk from B to A\n",
      "Move disk from B to C\n",
      "Move disk from A to C\n"
     ]
    }
   ],
   "source": [
    "def hanoi(n,from_tower,to_tower,using_tower):\n",
    "    if n > 0:\n",
    "        hanoi(n - 1,from_tower,using_tower,to_tower)\n",
    "        print('Move disk from {} to {}'.format(from_tower,to_tower))\n",
    "        hanoi(n-1,using_tower,to_tower,from_tower)\n",
    "hanoi(disks,from_tower,to_tower,using_tower)"
   ]
  },
  {
   "cell_type": "code",
   "execution_count": 11,
   "metadata": {},
   "outputs": [
    {
     "name": "stdout",
     "output_type": "stream",
     "text": [
      "Yes\n"
     ]
    }
   ],
   "source": [
    "def arraySortedOrNot(arr): \n",
    "    n = len(arr) \n",
    "    if n == 1 or n == 0: \n",
    "        return True\n",
    "    return arr[0]<= arr[1] and arraySortedOrNot(arr[1:]) \n",
    "arr = [20, 23, 23, 45, 78, 88] \n",
    "if arraySortedOrNot(arr): print(\"Yes\") \n",
    "else: print(\"No\") "
   ]
  },
  {
   "cell_type": "code",
   "execution_count": 15,
   "metadata": {},
   "outputs": [],
   "source": [
    "def array_sorted_or_not(arr):\n",
    "    n = len(arr)\n",
    "    if n == 1 or n == 0:\n",
    "        return True\n",
    "    else:\n",
    "        return arr[0] <= arr[1] and array_sorted_or_not(arr[1:])\n",
    "arr = [20, 28, 23, 45, 78, 88] "
   ]
  },
  {
   "cell_type": "code",
   "execution_count": 16,
   "metadata": {},
   "outputs": [
    {
     "data": {
      "text/plain": [
       "False"
      ]
     },
     "execution_count": 16,
     "metadata": {},
     "output_type": "execute_result"
    }
   ],
   "source": [
    "array_sorted_or_not(arr)"
   ]
  },
  {
   "cell_type": "code",
   "execution_count": 25,
   "metadata": {},
   "outputs": [],
   "source": [
    "def bit_string(n):\n",
    "    if n == 0:\n",
    "        return 0\n",
    "    if n == 1:\n",
    "        return ['0','1']\n",
    "    return [digit + bitstring for digit in bit_string(1) for bitstring in bit_string(n - 1)]"
   ]
  },
  {
   "cell_type": "code",
   "execution_count": 29,
   "metadata": {},
   "outputs": [
    {
     "data": {
      "text/plain": [
       "['000', '001', '010', '011', '100', '101', '110', '111']"
      ]
     },
     "execution_count": 29,
     "metadata": {},
     "output_type": "execute_result"
    }
   ],
   "source": [
    "bit_string(3)"
   ]
  },
  {
   "cell_type": "code",
   "execution_count": 37,
   "metadata": {},
   "outputs": [],
   "source": [
    "def rangeToList(k):\n",
    "    result = []\n",
    "    for i in range(0,k):\n",
    "        result.append(str(i))\n",
    "    return result\n",
    "def baseKString(n,k):\n",
    "    if n == 0:\n",
    "        return []\n",
    "    if n == 1:\n",
    "        return rangeToList(k)\n",
    "    return [digit + bitstring for digit in baseKString(1,k) for bitstring in baseKString(n-1,k)]"
   ]
  },
  {
   "cell_type": "code",
   "execution_count": 2,
   "metadata": {},
   "outputs": [],
   "source": [
    "class Pets:\n",
    "    dogs = []\n",
    "    def __init__(self,dogs):\n",
    "        self.dogs = dogs\n",
    "class Dog:\n",
    "    species = 'mammals'\n",
    "    \n",
    "    def __init__(self,name,age):\n",
    "        self.name = name\n",
    "        self.age = age\n",
    "    \n",
    "    def description(self):\n",
    "        return self.name,self.age\n",
    "    \n",
    "    def speak(self,sound):\n",
    "        return \"{} says {}\".fomat(self.name,sound)\n",
    "    \n",
    "    def eat(self):\n",
    "        self.is_hungry = False\n",
    "        \n",
    "class RusselTerrier(Dog):\n",
    "    def run(self,speed):\n",
    "        return \"{} runs {}\".format(self.name,speed)\n",
    "\n",
    "class Bulldog(Dog):\n",
    "    def run(self,speed):\n",
    "        return \"{} runs {}\".format(self.name,speed)\n",
    "    \n",
    "my_dogs = [\n",
    "    Bulldog('Tom',6),\n",
    "    RusselTerrier('Fletcher',7),\n",
    "    Dog('Larry',9)\n",
    "]\n",
    "my_pets = Pets(my_dogs)"
   ]
  },
  {
   "cell_type": "code",
   "execution_count": 3,
   "metadata": {},
   "outputs": [
    {
     "data": {
      "text/plain": [
       "<__main__.Pets at 0x194a13aee80>"
      ]
     },
     "execution_count": 3,
     "metadata": {},
     "output_type": "execute_result"
    }
   ],
   "source": [
    "my_pets"
   ]
  },
  {
   "cell_type": "code",
   "execution_count": null,
   "metadata": {},
   "outputs": [],
   "source": []
  }
 ],
 "metadata": {
  "kernelspec": {
   "display_name": "Python 3",
   "language": "python",
   "name": "python3"
  },
  "language_info": {
   "codemirror_mode": {
    "name": "ipython",
    "version": 3
   },
   "file_extension": ".py",
   "mimetype": "text/x-python",
   "name": "python",
   "nbconvert_exporter": "python",
   "pygments_lexer": "ipython3",
   "version": "3.7.1"
  }
 },
 "nbformat": 4,
 "nbformat_minor": 2
}
